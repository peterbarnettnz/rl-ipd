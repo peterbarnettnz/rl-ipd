{
 "cells": [
  {
   "cell_type": "code",
   "execution_count": 5,
   "id": "213f2c69",
   "metadata": {},
   "outputs": [],
   "source": [
    "import numpy as np\n",
    "import matplotlib.pyplot as plt\n",
    "%matplotlib inline\n",
    "\n",
    "import os\n",
    "import cloudpickle as pickle\n",
    "import pickle\n",
    "# import joblib as pickle\n",
    "import re\n",
    "\n",
    "from envs import MatrixGameEnv, MatrixGameEnv_no_history\n",
    "\n",
    "from players import TitForTatPlayer, TitForTatThenDefectPlayer\n",
    "\n",
    "import evaluation\n",
    "\n",
    "import pandas as pd\n"
   ]
  },
  {
   "cell_type": "code",
   "execution_count": 6,
   "id": "6ca36662",
   "metadata": {},
   "outputs": [
    {
     "ename": "NameError",
     "evalue": "name 'ray' is not defined",
     "output_type": "error",
     "traceback": [
      "\u001b[0;31m---------------------------------------------------------------------------\u001b[0m",
      "\u001b[0;31mNameError\u001b[0m                                 Traceback (most recent call last)",
      "\u001b[0;32m<ipython-input-6-3bae317cb52f>\u001b[0m in \u001b[0;36m<module>\u001b[0;34m\u001b[0m\n\u001b[0;32m----> 1\u001b[0;31m \u001b[0mray\u001b[0m\u001b[0;34m.\u001b[0m\u001b[0m__version__\u001b[0m\u001b[0;34m\u001b[0m\u001b[0;34m\u001b[0m\u001b[0m\n\u001b[0m",
      "\u001b[0;31mNameError\u001b[0m: name 'ray' is not defined"
     ]
    }
   ],
   "source": [
    "ray.__version__"
   ]
  },
  {
   "cell_type": "code",
   "execution_count": null,
   "id": "09d472d1",
   "metadata": {},
   "outputs": [],
   "source": [
    "import ray\n",
    "from ray import tune\n",
    "from ray.rllib.examples.env.multi_agent import MultiAgentCartPole\n",
    "from ray.rllib.examples.models.shared_weights_model import \\\n",
    "    SharedWeightsModel1, SharedWeightsModel2, TF2SharedWeightsModel, \\\n",
    "    TorchSharedWeightsModel\n",
    "from ray.rllib.models import ModelCatalog\n",
    "# from ray.rllib.policy import PolicySpec\n",
    "from ray.rllib.utils.framework import try_import_tf\n",
    "from ray.rllib.utils.test_utils import check_learning_achieved\n",
    "from ray.tune.registry import register_env"
   ]
  },
  {
   "cell_type": "code",
   "execution_count": null,
   "id": "a385dfdc",
   "metadata": {},
   "outputs": [],
   "source": [
    "import ray\n",
    "from ray.rllib.agents.ppo import PPOTrainer\n",
    "from ray.rllib.agents.ppo import DEFAULT_CONFIG as DEFAULT_CONFIG_PPO\n",
    "\n",
    "from ray.rllib.agents.dqn import DQNTrainer, DEFAULT_CONFIG \n",
    "from ray.rllib.agents.dqn import  DEFAULT_CONFIG as DEFAULT_CONFIG_DQN\n",
    "\n",
    "\n",
    "from ray.tune.registry import register_env\n",
    "from ray.tune.logger import pretty_print\n",
    "\n",
    "ray.init(ignore_reinit_error=True, log_to_driver=False)"
   ]
  },
  {
   "cell_type": "code",
   "execution_count": null,
   "id": "3559102c",
   "metadata": {},
   "outputs": [],
   "source": [
    "register_env('two_agent_MG_env', lambda c: envs.TwoAgentMatrixGameEnv(c))\n"
   ]
  },
  {
   "cell_type": "code",
   "execution_count": null,
   "id": "c2a6de81",
   "metadata": {},
   "outputs": [],
   "source": [
    "base_dir = '/home/peter/Documents/ML/rl_ipd/MA_runs/big1/MA/'\n",
    "exp_dirs = ['MA_DQN1/']\n",
    "env_pref = 'DQN'\n",
    "\n",
    "# exp_dir = 'DQN_single_t4td/'\n",
    "# env_pref = 'DQN_MG_t4td_env'\n",
    "\n",
    "cp_path = \"/checkpoint_000200/checkpoint-200\"\n",
    "# exps = os.listdir(base_dir+exp_dir)\n"
   ]
  },
  {
   "cell_type": "code",
   "execution_count": null,
   "id": "411c66e3",
   "metadata": {},
   "outputs": [],
   "source": [
    "base_dir = '/home/peter/Documents/ML/rl_ipd/MA_runs/small1/MA/'\n",
    "exp_dirs = ['MA_DQN2/']\n",
    "env_pref = 'DQN'\n",
    "\n",
    "# exp_dir = 'DQN_single_t4td/'\n",
    "# env_pref = 'DQN_MG_t4td_env'\n",
    "\n",
    "cp_path = \"/checkpoint_000100/checkpoint-100\"\n",
    "# exps = os.listdir(base_dir+exp_dir)\n"
   ]
  },
  {
   "cell_type": "code",
   "execution_count": null,
   "id": "2e1d6b1b",
   "metadata": {},
   "outputs": [],
   "source": [
    "for exp_dir in exp_dirs:\n",
    "    exps = os.listdir(base_dir+exp_dir)\n",
    "    attributes = ['gamma', 'lr']\n",
    "    data_names = ['episode_reward_max', 'episode_reward_min', 'episode_reward_mean']\n",
    "    data1 = pd.DataFrame(columns=['ID']+attributes+data_names)\n",
    "\n",
    "    \n",
    "    re_dict = {}\n",
    "    for attr in attributes:\n",
    "        p = re.compile(attr + '=[^_^,]*')\n",
    "        re_dict[attr] = p\n",
    "\n",
    "    data_names = ['episode_reward_max', 'episode_reward_min', 'episode_reward_mean']\n",
    "    data1 = pd.DataFrame(columns=['ID']+attributes+data_names)\n",
    "\n",
    "    for test_exp in exps:\n",
    "\n",
    "        path1 = base_dir+ exp_dir+test_exp\n",
    "\n",
    "        if os.path.isdir(path1) and (env_pref in test_exp):\n",
    "            print('hon')\n",
    "\n",
    "            append_dict = {}\n",
    "            append_dict['ID'] = test_exp\n",
    "            has_none = False\n",
    "            for attr in attributes:\n",
    "                p = re_dict[attr]\n",
    "                val_str = p.findall(test_exp)\n",
    "                if not val_str:\n",
    "                    val = None\n",
    "    #                 print(at)\n",
    "                    has_none = True\n",
    "                    break\n",
    "\n",
    "                else:\n",
    "                    val = val_str[0][len(attr)+1:]\n",
    "                    val = float(val)\n",
    "                append_dict[attr] = val\n",
    "                if os.path.exists(path1 + cp_path):\n",
    "                    print('hi')\n",
    "                    progress_csv = pd.read_csv(path1+'/progress.csv')\n",
    "                    \n",
    "                    \n",
    "                    for data_name in data_names:\n",
    "                        vals = progress_csv[data_name].to_numpy()\n",
    "                        append_dict[data_name] = vals\n",
    "                        append_dict['final_' + data_name] = vals[-1]\n",
    "#                     try:\n",
    "                    with open(path1 + '/params.pkl', 'rb') as f:\n",
    "                        data = pickle.load(f)\n",
    "                    agent = DQNTrainer(config=data)\n",
    "                    agent.restore(path1+ cp_path, )\n",
    "                    t_frac, c_frac = evaluation.is_t4t(agent,100, policy_id='agent-0')\n",
    "\n",
    "                    append_dict['t4t_frac0'] = t_frac\n",
    "                    append_dict['coop_frac0'] = c_frac\n",
    "\n",
    "                    t_frac, c_frac = evaluation.is_t4t(agent,100, policy_id='agent-1')\n",
    "\n",
    "                    append_dict['t4t_frac1'] = t_frac\n",
    "                    append_dict['coop_frac1'] = c_frac\n",
    "#                     except:\n",
    "#                         print('nope')\n",
    "\n",
    "\n",
    "                else:\n",
    "                    has_none = True\n",
    "                    break\n",
    "\n",
    "            if not has_none:\n",
    "                data1 = data1.append(append_dict,ignore_index=True)\n",
    "    #             print(append_dict)\n",
    "    print(data1)\n",
    "    data1.to_pickle(base_dir + exp_dir + 'data_save')"
   ]
  },
  {
   "cell_type": "code",
   "execution_count": null,
   "id": "a87c11e1",
   "metadata": {},
   "outputs": [],
   "source": [
    "data1"
   ]
  },
  {
   "cell_type": "code",
   "execution_count": null,
   "id": "71beabcb",
   "metadata": {},
   "outputs": [],
   "source": [
    "os.path.exists(path1 + '/params.pkl')"
   ]
  },
  {
   "cell_type": "code",
   "execution_count": null,
   "id": "4051b02f",
   "metadata": {},
   "outputs": [],
   "source": [
    "# with open(path1 + '/params.pkl', 'rb') as f:\n",
    "pd.read_pickle(path1 + '/params.pkl')"
   ]
  },
  {
   "cell_type": "code",
   "execution_count": null,
   "id": "fe73f46a",
   "metadata": {},
   "outputs": [],
   "source": [
    "import pandas as pd"
   ]
  },
  {
   "cell_type": "code",
   "execution_count": null,
   "id": "0dca464f",
   "metadata": {},
   "outputs": [],
   "source": [
    "pd.read_pickle(f)"
   ]
  },
  {
   "cell_type": "code",
   "execution_count": null,
   "id": "1b416d5a",
   "metadata": {},
   "outputs": [],
   "source": [
    "!python3 -m pip uninstall joblib\n",
    "\n",
    "n\n"
   ]
  },
  {
   "cell_type": "code",
   "execution_count": null,
   "id": "68554b10",
   "metadata": {},
   "outputs": [],
   "source": []
  },
  {
   "cell_type": "code",
   "execution_count": null,
   "id": "c9d37b97",
   "metadata": {},
   "outputs": [],
   "source": []
  },
  {
   "cell_type": "code",
   "execution_count": null,
   "id": "8a5108af",
   "metadata": {},
   "outputs": [],
   "source": []
  }
 ],
 "metadata": {
  "kernelspec": {
   "display_name": "Python 3",
   "language": "python",
   "name": "python3"
  },
  "language_info": {
   "codemirror_mode": {
    "name": "ipython",
    "version": 3
   },
   "file_extension": ".py",
   "mimetype": "text/x-python",
   "name": "python",
   "nbconvert_exporter": "python",
   "pygments_lexer": "ipython3",
   "version": "3.8.8"
  }
 },
 "nbformat": 4,
 "nbformat_minor": 5
}
