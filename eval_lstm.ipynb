{
 "cells": [
  {
   "cell_type": "code",
   "execution_count": 1,
   "id": "d324ff7d",
   "metadata": {},
   "outputs": [
    {
     "name": "stderr",
     "output_type": "stream",
     "text": [
      "/home/peter/anaconda3/lib/python3.8/site-packages/ray/autoscaler/_private/cli_logger.py:57: FutureWarning: Not all Ray CLI dependencies were found. In Ray 1.4+, the Ray CLI, autoscaler, and dashboard will only be usable via `pip install 'ray[default]'`. Please update your install command.\n",
      "  warnings.warn(\n"
     ]
    }
   ],
   "source": [
    "import numpy as np\n",
    "import matplotlib.pyplot as plt\n",
    "%matplotlib inline\n",
    "\n",
    "import os\n",
    "import pickle\n",
    "\n",
    "from envs import MatrixGameEnv, MatrixGameEnv_no_history\n",
    "\n",
    "from players import TitForTatPlayer, TitForTatThenDefectPlayer\n",
    "\n",
    "import evaluation\n"
   ]
  },
  {
   "cell_type": "code",
   "execution_count": 2,
   "id": "38a002ea",
   "metadata": {},
   "outputs": [
    {
     "data": {
      "image/png": "[encoded data removed]",
      "text/plain": [
       "<Figure size 432x288 with 1 Axes>"
      ]
     },
     "metadata": {
      "needs_background": "light"
     },
     "output_type": "display_data"
    }
   ],
   "source": [
    "plt.plot(np.random.randn(10))\n",
    "plt.show()"
   ]
  },
  {
   "cell_type": "code",
   "execution_count": 2,
   "id": "125b1aa1",
   "metadata": {},
   "outputs": [],
   "source": [
    "import ray\n",
    "from ray import tune\n",
    "from ray.rllib.examples.env.multi_agent import MultiAgentCartPole\n",
    "from ray.rllib.examples.models.shared_weights_model import \\\n",
    "    SharedWeightsModel1, SharedWeightsModel2, TF2SharedWeightsModel, \\\n",
    "    TorchSharedWeightsModel\n",
    "from ray.rllib.models import ModelCatalog\n",
    "# from ray.rllib.policy import PolicySpec\n",
    "from ray.rllib.utils.framework import try_import_tf\n",
    "from ray.rllib.utils.test_utils import check_learning_achieved\n",
    "from ray.tune.registry import register_env"
   ]
  },
  {
   "cell_type": "code",
   "execution_count": 3,
   "id": "7949fc25",
   "metadata": {},
   "outputs": [
    {
     "name": "stderr",
     "output_type": "stream",
     "text": [
      "2021-10-11 13:37:59,143\tINFO services.py:1245 -- View the Ray dashboard at \u001b[1m\u001b[32mhttp://127.0.0.1:8265\u001b[39m\u001b[22m\n"
     ]
    },
    {
     "data": {
      "text/plain": [
       "{'node_ip_address': '192.168.1.242',\n",
       " 'raylet_ip_address': '192.168.1.242',\n",
       " 'redis_address': '192.168.1.242:6379',\n",
       " 'object_store_address': '/tmp/ray/session_2021-10-11_13-37-56_986181_97559/sockets/plasma_store',\n",
       " 'raylet_socket_name': '/tmp/ray/session_2021-10-11_13-37-56_986181_97559/sockets/raylet',\n",
       " 'webui_url': '127.0.0.1:8265',\n",
       " 'session_dir': '/tmp/ray/session_2021-10-11_13-37-56_986181_97559',\n",
       " 'metrics_export_port': 51473,\n",
       " 'node_id': '5c6aa6de8998b507829b04668e5f7a62cac8427d394e2718b4ecccf8'}"
      ]
     },
     "execution_count": 3,
     "metadata": {},
     "output_type": "execute_result"
    }
   ],
   "source": [
    "import ray\n",
    "from ray.rllib.agents.ppo import PPOTrainer\n",
    "from ray.rllib.agents.ppo import DEFAULT_CONFIG as DEFAULT_CONFIG_PPO\n",
    "\n",
    "from ray.rllib.agents.dqn import DQNTrainer, DEFAULT_CONFIG \n",
    "from ray.rllib.agents.dqn import  DEFAULT_CONFIG as DEFAULT_CONFIG_DQN\n",
    "\n",
    "\n",
    "from ray.tune.registry import register_env\n",
    "from ray.tune.logger import pretty_print\n",
    "\n",
    "ray.init(ignore_reinit_error=True, log_to_driver=False)"
   ]
  },
  {
   "cell_type": "code",
   "execution_count": 4,
   "id": "7d89c84b",
   "metadata": {},
   "outputs": [],
   "source": [
    "register_env('MG_t4td_env', lambda c: MatrixGameEnv_no_history(\n",
    "    player2=TitForTatThenDefectPlayer(min_defect_turn=0, max_defect_turn=100)))\n",
    "\n",
    "register_env('MG_t4t_env', lambda c: MatrixGameEnv_no_history(\n",
    "    player2=TitForTatPlayer()))\n"
   ]
  },
  {
   "cell_type": "code",
   "execution_count": 6,
   "id": "143e195d",
   "metadata": {},
   "outputs": [],
   "source": [
    "base_dir = '/home/peter/Documents/ML/rl_ipd/single_agent_runs1/new_runs/'\n",
    "exp_dir = 'PPO_lstm_single_t4t/'\n",
    "# exp_dir = 'PPO_lstm_single_t4td/'\n",
    "\n",
    "cp_path = \"/checkpoint_000100/checkpoint-100\"\n",
    "exps = os.listdir(base_dir+exp_dir)\n",
    "test_exp = exps[0]"
   ]
  },
  {
   "cell_type": "code",
   "execution_count": 5,
   "id": "bbcaa262",
   "metadata": {},
   "outputs": [],
   "source": [
    "base_dir = '/home/peter/Documents/ML/rl_ipd/more_runs/MA_lstm/'\n",
    "exp_dir = 'MA_PPO2/'\n",
    "# exp_dir = 'PPO_lstm_single_t4td/'\n",
    "\n",
    "cp_path = \"/checkpoint_000100/checkpoint-100\"\n",
    "exps = os.listdir(base_dir+exp_dir)\n",
    "test_exp = exps[0]"
   ]
  },
  {
   "cell_type": "code",
   "execution_count": 6,
   "id": "96b30ce2",
   "metadata": {
    "scrolled": true
   },
   "outputs": [
    {
     "ename": "TypeError",
     "evalue": "an integer is required (got type bytes)",
     "output_type": "error",
     "traceback": [
      "\u001b[0;31m---------------------------------------------------------------------------\u001b[0m",
      "\u001b[0;31mTypeError\u001b[0m                                 Traceback (most recent call last)",
      "\u001b[0;32m<ipython-input-6-3836cd8bf456>\u001b[0m in \u001b[0;36m<module>\u001b[0;34m\u001b[0m\n\u001b[1;32m     10\u001b[0m     \u001b[0;32mif\u001b[0m \u001b[0mos\u001b[0m\u001b[0;34m.\u001b[0m\u001b[0mpath\u001b[0m\u001b[0;34m.\u001b[0m\u001b[0mexists\u001b[0m\u001b[0;34m(\u001b[0m\u001b[0mpath1\u001b[0m \u001b[0;34m+\u001b[0m \u001b[0mcp_path\u001b[0m\u001b[0;34m)\u001b[0m\u001b[0;34m:\u001b[0m\u001b[0;34m\u001b[0m\u001b[0;34m\u001b[0m\u001b[0m\n\u001b[1;32m     11\u001b[0m         \u001b[0;32mwith\u001b[0m \u001b[0mopen\u001b[0m\u001b[0;34m(\u001b[0m\u001b[0mpath1\u001b[0m \u001b[0;34m+\u001b[0m \u001b[0;34m'/params.pkl'\u001b[0m\u001b[0;34m,\u001b[0m \u001b[0;34m'rb'\u001b[0m\u001b[0;34m)\u001b[0m \u001b[0;32mas\u001b[0m \u001b[0mf\u001b[0m\u001b[0;34m:\u001b[0m\u001b[0;34m\u001b[0m\u001b[0;34m\u001b[0m\u001b[0m\n\u001b[0;32m---> 12\u001b[0;31m             \u001b[0mdata\u001b[0m \u001b[0;34m=\u001b[0m \u001b[0mpickle\u001b[0m\u001b[0;34m.\u001b[0m\u001b[0mload\u001b[0m\u001b[0;34m(\u001b[0m\u001b[0mf\u001b[0m\u001b[0;34m)\u001b[0m\u001b[0;34m\u001b[0m\u001b[0;34m\u001b[0m\u001b[0m\n\u001b[0m\u001b[1;32m     13\u001b[0m         \u001b[0magent\u001b[0m \u001b[0;34m=\u001b[0m \u001b[0mPPOTrainer\u001b[0m\u001b[0;34m(\u001b[0m\u001b[0mconfig\u001b[0m\u001b[0;34m=\u001b[0m\u001b[0mdata\u001b[0m\u001b[0;34m)\u001b[0m\u001b[0;34m\u001b[0m\u001b[0;34m\u001b[0m\u001b[0m\n\u001b[1;32m     14\u001b[0m         \u001b[0magent\u001b[0m\u001b[0;34m.\u001b[0m\u001b[0mrestore\u001b[0m\u001b[0;34m(\u001b[0m\u001b[0mpath1\u001b[0m\u001b[0;34m+\u001b[0m \u001b[0mcp_path\u001b[0m\u001b[0;34m,\u001b[0m \u001b[0;34m)\u001b[0m\u001b[0;34m\u001b[0m\u001b[0;34m\u001b[0m\u001b[0m\n",
      "\u001b[0;31mTypeError\u001b[0m: an integer is required (got type bytes)"
     ]
    },
    {
     "name": "stderr",
     "output_type": "stream",
     "text": [
      "2021-10-11 13:49:06,864\tWARNING worker.py:1189 -- The autoscaler failed with the following error:\n",
      "Traceback (most recent call last):\n",
      "  File \"/home/peter/anaconda3/lib/python3.8/site-packages/ray/autoscaler/_private/monitor.py\", line 317, in run\n",
      "    self._run()\n",
      "  File \"/home/peter/anaconda3/lib/python3.8/site-packages/ray/autoscaler/_private/monitor.py\", line 207, in _run\n",
      "    self.update_load_metrics()\n",
      "  File \"/home/peter/anaconda3/lib/python3.8/site-packages/ray/autoscaler/_private/monitor.py\", line 169, in update_load_metrics\n",
      "    response = self.gcs_node_resources_stub.GetAllResourceUsage(\n",
      "  File \"/home/peter/.local/lib/python3.8/site-packages/grpc/_channel.py\", line 826, in __call__\n",
      "    return _end_unary_response_blocking(state, call, False, None)\n",
      "  File \"/home/peter/.local/lib/python3.8/site-packages/grpc/_channel.py\", line 729, in _end_unary_response_blocking\n",
      "    raise _InactiveRpcError(state)\n",
      "grpc._channel._InactiveRpcError: <_InactiveRpcError of RPC that terminated with:\n",
      "\tstatus = StatusCode.DEADLINE_EXCEEDED\n",
      "\tdetails = \"Deadline Exceeded\"\n",
      "\tdebug_error_string = \"{\"created\":\"@1633913273.221907196\",\"description\":\"Error received from peer ipv4:192.168.1.242:35241\",\"file\":\"src/core/lib/surface/call.cc\",\"file_line\":1061,\"grpc_message\":\"Deadline Exceeded\",\"grpc_status\":4}\"\n",
      ">\n",
      "\n"
     ]
    }
   ],
   "source": [
    "\n",
    "t4t_frac = []\n",
    "coop_frac = []\n",
    "for test_exp in exps:\n",
    "    path1 = base_dir+ exp_dir+test_exp\n",
    "# path1 = base_dir+ exp_dir+run_dir\n",
    "\n",
    "# path1='/home/peter/Documents/ML/rl_ipd/single_agent_runs1/new_runs/DQN_single_t4t'\n",
    "# path1='/home/peter/Documents/ML/rl_ipd/single_agent_runs1/new_runs/DQN_single_t4t/DQN_MG_t4t_env_3dc73_00000_0_gamma=0.999,lr=0.001,n_step=1_2021-08-13_15-33-36'\n",
    "    \n",
    "    if os.path.exists(path1 + cp_path):\n",
    "        with open(path1 + '/params.pkl', 'rb') as f:\n",
    "            data = pickle.load(f)\n",
    "        agent = PPOTrainer(config=data)\n",
    "        agent.restore(path1+ cp_path, )\n",
    "        t_frac, c_frac = evaluation.is_t4t_no_history(agent,100)\n",
    "        t4t_frac.append(t_frac[0])\n",
    "        coop_frac.append(c_frac)"
   ]
  },
  {
   "cell_type": "code",
   "execution_count": 12,
   "id": "7bb4da2b",
   "metadata": {},
   "outputs": [],
   "source": [
    "env = MatrixGameEnv_no_history(player2=TitForTatPlayer())"
   ]
  },
  {
   "cell_type": "code",
   "execution_count": 19,
   "id": "fd6d9fc8",
   "metadata": {},
   "outputs": [
    {
     "data": {
      "text/plain": [
       "array([0.62363774, 0.6606885 , 0.8033436 , 0.898997  ], dtype=float32)"
      ]
     },
     "execution_count": 19,
     "metadata": {},
     "output_type": "execute_result"
    }
   ],
   "source": [
    "env.observation_space.sample()"
   ]
  },
  {
   "cell_type": "code",
   "execution_count": 26,
   "id": "f0ef299d",
   "metadata": {},
   "outputs": [
    {
     "data": {
      "text/plain": [
       "[tensor([0., 0., 0., 0., 0., 0., 0., 0., 0., 0., 0., 0., 0., 0., 0., 0., 0., 0., 0., 0., 0., 0., 0., 0.,\n",
       "         0., 0., 0., 0., 0., 0., 0., 0., 0., 0., 0., 0., 0., 0., 0., 0., 0., 0., 0., 0., 0., 0., 0., 0.,\n",
       "         0., 0., 0., 0., 0., 0., 0., 0., 0., 0., 0., 0., 0., 0., 0., 0., 0., 0., 0., 0., 0., 0., 0., 0.,\n",
       "         0., 0., 0., 0., 0., 0., 0., 0., 0., 0., 0., 0., 0., 0., 0., 0., 0., 0., 0., 0., 0., 0., 0., 0.,\n",
       "         0., 0., 0., 0., 0., 0., 0., 0., 0., 0., 0., 0., 0., 0., 0., 0., 0., 0., 0., 0., 0., 0., 0., 0.,\n",
       "         0., 0., 0., 0., 0., 0., 0., 0., 0., 0., 0., 0., 0., 0., 0., 0., 0., 0., 0., 0., 0., 0., 0., 0.,\n",
       "         0., 0., 0., 0., 0., 0., 0., 0., 0., 0., 0., 0., 0., 0., 0., 0., 0., 0., 0., 0., 0., 0., 0., 0.,\n",
       "         0., 0., 0., 0., 0., 0., 0., 0., 0., 0., 0., 0., 0., 0., 0., 0., 0., 0., 0., 0., 0., 0., 0., 0.,\n",
       "         0., 0., 0., 0., 0., 0., 0., 0., 0., 0., 0., 0., 0., 0., 0., 0., 0., 0., 0., 0., 0., 0., 0., 0.,\n",
       "         0., 0., 0., 0., 0., 0., 0., 0., 0., 0., 0., 0., 0., 0., 0., 0., 0., 0., 0., 0., 0., 0., 0., 0.,\n",
       "         0., 0., 0., 0., 0., 0., 0., 0., 0., 0., 0., 0., 0., 0., 0., 0.]),\n",
       " tensor([0., 0., 0., 0., 0., 0., 0., 0., 0., 0., 0., 0., 0., 0., 0., 0., 0., 0., 0., 0., 0., 0., 0., 0.,\n",
       "         0., 0., 0., 0., 0., 0., 0., 0., 0., 0., 0., 0., 0., 0., 0., 0., 0., 0., 0., 0., 0., 0., 0., 0.,\n",
       "         0., 0., 0., 0., 0., 0., 0., 0., 0., 0., 0., 0., 0., 0., 0., 0., 0., 0., 0., 0., 0., 0., 0., 0.,\n",
       "         0., 0., 0., 0., 0., 0., 0., 0., 0., 0., 0., 0., 0., 0., 0., 0., 0., 0., 0., 0., 0., 0., 0., 0.,\n",
       "         0., 0., 0., 0., 0., 0., 0., 0., 0., 0., 0., 0., 0., 0., 0., 0., 0., 0., 0., 0., 0., 0., 0., 0.,\n",
       "         0., 0., 0., 0., 0., 0., 0., 0., 0., 0., 0., 0., 0., 0., 0., 0., 0., 0., 0., 0., 0., 0., 0., 0.,\n",
       "         0., 0., 0., 0., 0., 0., 0., 0., 0., 0., 0., 0., 0., 0., 0., 0., 0., 0., 0., 0., 0., 0., 0., 0.,\n",
       "         0., 0., 0., 0., 0., 0., 0., 0., 0., 0., 0., 0., 0., 0., 0., 0., 0., 0., 0., 0., 0., 0., 0., 0.,\n",
       "         0., 0., 0., 0., 0., 0., 0., 0., 0., 0., 0., 0., 0., 0., 0., 0., 0., 0., 0., 0., 0., 0., 0., 0.,\n",
       "         0., 0., 0., 0., 0., 0., 0., 0., 0., 0., 0., 0., 0., 0., 0., 0., 0., 0., 0., 0., 0., 0., 0., 0.,\n",
       "         0., 0., 0., 0., 0., 0., 0., 0., 0., 0., 0., 0., 0., 0., 0., 0.])]"
      ]
     },
     "execution_count": 26,
     "metadata": {},
     "output_type": "execute_result"
    }
   ],
   "source": [
    "agent.get_policy().model.get_initial_state()"
   ]
  },
  {
   "cell_type": "code",
   "execution_count": 27,
   "id": "26a8c7ab",
   "metadata": {
    "scrolled": true
   },
   "outputs": [
    {
     "data": {
      "text/plain": [
       "(0,\n",
       " [array([ 0.7615942,  0.7615942, -0.7615942, -0.7615942, -0.7615942,\n",
       "         -0.7615942, -0.7615942, -0.7615942,  0.7615942,  0.7615942,\n",
       "         -0.7615942, -0.7615942, -0.7615942,  0.7615942, -0.7615942,\n",
       "         -0.7615942, -0.7615942, -0.7615942, -0.7615942, -0.7615942,\n",
       "          0.7615942,  0.7615942,  0.7615942, -0.7615942, -0.7615942,\n",
       "         -0.7615942,  0.7615942,  0.7615942,  0.7615942,  0.7615942,\n",
       "          0.7615942, -0.7615942,  0.7615942,  0.7615942, -0.7615942,\n",
       "         -0.7615942, -0.7615942, -0.7615942, -0.7615942,  0.7615942,\n",
       "          0.7615942, -0.7615942, -0.7615942, -0.7615942, -0.7615942,\n",
       "         -0.7615942,  0.7615942,  0.7615942, -0.7615942,  0.7615942,\n",
       "         -0.7615942,  0.7615942, -0.7615942, -0.7615942, -0.7615942,\n",
       "         -0.7615942,  0.7615942,  0.7615942, -0.7615942,  0.7615942,\n",
       "         -0.7615942,  0.7615942, -0.7615942,  0.7615942, -0.7615942,\n",
       "         -0.7615942, -0.7615942, -0.7615942, -0.7615942, -0.7615942,\n",
       "          0.7615942, -0.7615942,  0.7615942, -0.7615942, -0.7615942,\n",
       "          0.7615942, -0.7615942,  0.7615942,  0.7615942,  0.7615942,\n",
       "          0.7615942, -0.7615942,  0.7615942, -0.7615942, -0.7615942,\n",
       "          0.7615942, -0.7615942, -0.7615942, -0.7615942, -0.7615942,\n",
       "          0.7615942, -0.7615942, -0.7615942, -0.7615942, -0.7615942,\n",
       "         -0.7615942,  0.7615942, -0.7615942, -0.7615942,  0.7615942,\n",
       "         -0.7615942, -0.7615942,  0.7615942, -0.7615942,  0.7615942,\n",
       "          0.7615942, -0.7615942,  0.7615942,  0.7615942,  0.7615942,\n",
       "         -0.7615942,  0.7615942,  0.7615942,  0.7615942,  0.7615942,\n",
       "         -0.7615942,  0.7615942, -0.7615942, -0.7615942,  0.7615942,\n",
       "          0.7615942,  0.7615942,  0.7615942, -0.7615942,  0.7615942,\n",
       "          0.7615942,  0.7615942, -0.7615942, -0.7615942,  0.7615942,\n",
       "         -0.7615942, -0.7615942,  0.7615942,  0.7615942, -0.7615942,\n",
       "         -0.7615942, -0.7615942, -0.7615942,  0.7615942,  0.7615942,\n",
       "          0.7615942, -0.7615942,  0.7615942, -0.7615942, -0.7615942,\n",
       "         -0.7615942,  0.7615942,  0.7615942,  0.7615942, -0.7615942,\n",
       "         -0.7615942,  0.7615942, -0.7615942, -0.7615942,  0.7615942,\n",
       "          0.7615942, -0.7615942, -0.7615942, -0.7615942,  0.7615942,\n",
       "         -0.7615942,  0.7615942, -0.7615942, -0.7615942,  0.7615942,\n",
       "         -0.7615942,  0.7615942, -0.7615942, -0.7615942,  0.7615942,\n",
       "         -0.7615942,  0.7615942,  0.7615942,  0.7615942, -0.7615942,\n",
       "          0.7615942, -0.7615942,  0.7615942, -0.7615942, -0.7615942,\n",
       "         -0.7615942, -0.7615942, -0.7615942, -0.7615942,  0.7615942,\n",
       "          0.7615942, -0.7615942, -0.7615942, -0.7615942,  0.7615942,\n",
       "         -0.7615942, -0.7615942, -0.7615942, -0.7615942,  0.7615942,\n",
       "          0.7615942,  0.7615942, -0.7615942,  0.7615942, -0.7615942,\n",
       "          0.7615942, -0.7615942,  0.7615942, -0.7615942,  0.7615942,\n",
       "         -0.7615942, -0.7615942, -0.7615942, -0.7615942,  0.7615942,\n",
       "         -0.7615942, -0.7615942,  0.7615942,  0.7615942, -0.7615942,\n",
       "          0.7615942, -0.7615942,  0.7615942,  0.7615942,  0.7615942,\n",
       "         -0.7615942, -0.7615942, -0.7615942, -0.7615942, -0.7615942,\n",
       "          0.7615942, -0.7615942,  0.7615942, -0.7615942, -0.7615942,\n",
       "          0.7615942,  0.7615942, -0.7615942,  0.7615942,  0.7615942,\n",
       "         -0.7615942, -0.7615942,  0.7615942, -0.7615942, -0.7615942,\n",
       "          0.7615942,  0.7615942, -0.7615942, -0.7615942,  0.7615942,\n",
       "          0.7615942, -0.7615942, -0.7615942,  0.7615942,  0.7615942,\n",
       "          0.7615942, -0.7615942,  0.7615942, -0.7615942, -0.7615942,\n",
       "         -0.7615942], dtype=float32),\n",
       "  array([ 1.,  1., -1., -1., -1., -1., -1., -1.,  1.,  1., -1., -1., -1.,\n",
       "          1., -1., -1., -1., -1., -1., -1.,  1.,  1.,  1., -1., -1., -1.,\n",
       "          1.,  1.,  1.,  1.,  1., -1.,  1.,  1., -1., -1., -1., -1., -1.,\n",
       "          1.,  1., -1., -1., -1., -1., -1.,  1.,  1., -1.,  1., -1.,  1.,\n",
       "         -1., -1., -1., -1.,  1.,  1., -1.,  1., -1.,  1., -1.,  1., -1.,\n",
       "         -1., -1., -1., -1., -1.,  1., -1.,  1., -1., -1.,  1., -1.,  1.,\n",
       "          1.,  1.,  1., -1.,  1., -1., -1.,  1., -1., -1., -1., -1.,  1.,\n",
       "         -1., -1., -1., -1., -1.,  1., -1., -1.,  1., -1., -1.,  1., -1.,\n",
       "          1.,  1., -1.,  1.,  1.,  1., -1.,  1.,  1.,  1.,  1., -1.,  1.,\n",
       "         -1., -1.,  1.,  1.,  1.,  1., -1.,  1.,  1.,  1., -1., -1.,  1.,\n",
       "         -1., -1.,  1.,  1., -1., -1., -1., -1.,  1.,  1.,  1., -1.,  1.,\n",
       "         -1., -1., -1.,  1.,  1.,  1., -1., -1.,  1., -1., -1.,  1.,  1.,\n",
       "         -1., -1., -1.,  1., -1.,  1., -1., -1.,  1., -1.,  1., -1., -1.,\n",
       "          1., -1.,  1.,  1.,  1., -1.,  1., -1.,  1., -1., -1., -1., -1.,\n",
       "         -1., -1.,  1.,  1., -1., -1., -1.,  1., -1., -1., -1., -1.,  1.,\n",
       "          1.,  1., -1.,  1., -1.,  1., -1.,  1., -1.,  1., -1., -1., -1.,\n",
       "         -1.,  1., -1., -1.,  1.,  1., -1.,  1., -1.,  1.,  1.,  1., -1.,\n",
       "         -1., -1., -1., -1.,  1., -1.,  1., -1., -1.,  1.,  1., -1.,  1.,\n",
       "          1., -1., -1.,  1., -1., -1.,  1.,  1., -1., -1.,  1.,  1., -1.,\n",
       "         -1.,  1.,  1.,  1., -1.,  1., -1., -1., -1.], dtype=float32)],\n",
       " {'vf_preds': 116.20417,\n",
       "  'action_dist_inputs': array([  8.001869, -17.566069], dtype=float32),\n",
       "  'action_prob': 1.0,\n",
       "  'action_logp': 0.0})"
      ]
     },
     "execution_count": 27,
     "metadata": {},
     "output_type": "execute_result"
    },
    {
     "name": "stderr",
     "output_type": "stream",
     "text": [
      "2021-08-16 22:09:32,286\tWARNING worker.py:1189 -- The autoscaler failed with the following error:\n",
      "Traceback (most recent call last):\n",
      "  File \"/home/peter/anaconda3/lib/python3.8/site-packages/ray/autoscaler/_private/monitor.py\", line 317, in run\n",
      "    self._run()\n",
      "  File \"/home/peter/anaconda3/lib/python3.8/site-packages/ray/autoscaler/_private/monitor.py\", line 207, in _run\n",
      "    self.update_load_metrics()\n",
      "  File \"/home/peter/anaconda3/lib/python3.8/site-packages/ray/autoscaler/_private/monitor.py\", line 169, in update_load_metrics\n",
      "    response = self.gcs_node_resources_stub.GetAllResourceUsage(\n",
      "  File \"/home/peter/.local/lib/python3.8/site-packages/grpc/_channel.py\", line 826, in __call__\n",
      "    return _end_unary_response_blocking(state, call, False, None)\n",
      "  File \"/home/peter/.local/lib/python3.8/site-packages/grpc/_channel.py\", line 729, in _end_unary_response_blocking\n",
      "    raise _InactiveRpcError(state)\n",
      "grpc._channel._InactiveRpcError: <_InactiveRpcError of RPC that terminated with:\n",
      "\tstatus = StatusCode.DEADLINE_EXCEEDED\n",
      "\tdetails = \"Deadline Exceeded\"\n",
      "\tdebug_error_string = \"{\"created\":\"@1629108572.132415564\",\"description\":\"Deadline Exceeded\",\"file\":\"src/core/ext/filters/deadline/deadline_filter.cc\",\"file_line\":69,\"grpc_status\":4}\"\n",
      ">\n",
      "\n"
     ]
    }
   ],
   "source": [
    "obs = env.observation_space.sample()\n",
    "state = agent.get_policy().model.get_initial_state()\n",
    "agent.compute_action(obs, prev_action=0, prev_reward=0, state=state)"
   ]
  },
  {
   "cell_type": "code",
   "execution_count": 49,
   "id": "f97175df",
   "metadata": {},
   "outputs": [
    {
     "data": {
      "text/plain": [
       "[0.53,\n",
       " 1.0,\n",
       " 0.45999999999999996,\n",
       " 0.6699999999999999,\n",
       " 0.79,\n",
       " 0.65,\n",
       " 1.0,\n",
       " 0.48,\n",
       " 0.6799999999999999,\n",
       " 0.43000000000000005,\n",
       " 0.5800000000000001,\n",
       " 0.09999999999999998,\n",
       " 0.54,\n",
       " 0.7]"
      ]
     },
     "execution_count": 49,
     "metadata": {},
     "output_type": "execute_result"
    }
   ],
   "source": [
    "coop_frac"
   ]
  },
  {
   "cell_type": "code",
   "execution_count": null,
   "id": "9c1bc780",
   "metadata": {},
   "outputs": [],
   "source": []
  }
 ],
 "metadata": {
  "kernelspec": {
   "display_name": "Python 3",
   "language": "python",
   "name": "python3"
  },
  "language_info": {
   "codemirror_mode": {
    "name": "ipython",
    "version": 3
   },
   "file_extension": ".py",
   "mimetype": "text/x-python",
   "name": "python",
   "nbconvert_exporter": "python",
   "pygments_lexer": "ipython3",
   "version": "3.8.8"
  }
 },
 "nbformat": 4,
 "nbformat_minor": 5
}
